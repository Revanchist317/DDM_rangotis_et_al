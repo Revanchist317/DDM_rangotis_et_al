{
 "cells": [
  {
   "cell_type": "code",
   "execution_count": 39,
   "id": "1c448a52",
   "metadata": {},
   "outputs": [],
   "source": [
    "# Import the needed packaged \n",
    "from sklearn.preprocessing import StandardScaler\n",
    "from sklearn.discriminant_analysis import LinearDiscriminantAnalysis \n",
    "import matplotlib.pyplot as plt\n",
    "import pandas as pd\n",
    "import seaborn as sns\n",
    "import hddm\n",
    "import pymc\n",
    "import scipy\n",
    "import numpy as np\n",
    "import os \n",
    "from scipy import stats\n",
    "import scikit_posthocs as sp"
   ]
  },
  {
   "cell_type": "code",
   "execution_count": 40,
   "id": "1652193b",
   "metadata": {},
   "outputs": [
    {
     "name": "stdout",
     "output_type": "stream",
     "text": [
      "['humans_cylinder_buttons', 'humans_cylinder_saccades', 'humans_dots_buttons', 'humans_dots_saccades']\n",
      "['a', 't', 'z', 'v_Intercept', 'k']\n"
     ]
    }
   ],
   "source": [
    "# Load concatenated parameter traces of from MCMC for humans \n",
    "# os.chdir(\"Models\") \n",
    "a = hddm.load_csv('humans_cylinder_buttons_group_traces.csv')\n",
    "a.drop(columns=['Unnamed: 0'], inplace=True)\n",
    "a.drop(columns=[\"a_std\", \"t_std\", \"z_std\", \"v_Intercept_std\", \"v_stim_std\"], inplace=True)\n",
    "b = hddm.load_csv('humans_cylinder_saccades_group_traces.csv')\n",
    "b.drop(columns=['Unnamed: 0'], inplace=True)\n",
    "b.drop(columns=[\"a_std\", \"t_std\", \"z_std\", \"v_Intercept_std\", \"v_stim_std\"], inplace=True)\n",
    "c = hddm.load_csv('humans_dots_buttons_group_traces.csv')\n",
    "c.drop(columns=['Unnamed: 0'], inplace=True)\n",
    "c.drop(columns=[\"a_std\", \"t_std\", \"z_std\", \"v_Intercept_std\", \"v_stim_std\"], inplace=True)\n",
    "d = hddm.load_csv('humans_dots_saccades_group_traces.csv')\n",
    "d.drop(columns=['Unnamed: 0'], inplace=True)\n",
    "d.drop(columns=[\"a_std\", \"t_std\", \"z_std\", \"v_Intercept_std\", \"v_stim_std\"], inplace=True)\n",
    "\n",
    "# Some pre-processing \n",
    "for mat in [a,b,c,d]:\n",
    "    mat.rename(columns={'v_stim':'k', 'z_trans':'z'}, inplace=True)\n",
    "    mat['z'] = pymc.invlogit(mat['z'])\n",
    "\n",
    "# Put them all in one list\n",
    "allDatasets = [a, b, c, d]\n",
    "\n",
    "# Concatenate the data\n",
    "traces = pd.concat(allDatasets)\n",
    "\n",
    "# Names of the labelled groups for humans (4 total)\n",
    "list_of_targets = traces.Paradigm.unique().tolist()\n",
    "\n",
    "# Names of the dimensions (DDM parameters)\n",
    "features = list(traces.columns)[0:5]\n",
    "\n",
    "print(list_of_targets)\n",
    "print(features)"
   ]
  },
  {
   "cell_type": "code",
   "execution_count": 41,
   "id": "a6879455",
   "metadata": {},
   "outputs": [
    {
     "data": {
      "text/html": [
       "<div>\n",
       "<style scoped>\n",
       "    .dataframe tbody tr th:only-of-type {\n",
       "        vertical-align: middle;\n",
       "    }\n",
       "\n",
       "    .dataframe tbody tr th {\n",
       "        vertical-align: top;\n",
       "    }\n",
       "\n",
       "    .dataframe thead th {\n",
       "        text-align: right;\n",
       "    }\n",
       "</style>\n",
       "<table border=\"1\" class=\"dataframe\">\n",
       "  <thead>\n",
       "    <tr style=\"text-align: right;\">\n",
       "      <th></th>\n",
       "      <th>a</th>\n",
       "      <th>t</th>\n",
       "      <th>z</th>\n",
       "      <th>v_Intercept</th>\n",
       "      <th>k</th>\n",
       "      <th>Paradigm</th>\n",
       "    </tr>\n",
       "  </thead>\n",
       "  <tbody>\n",
       "    <tr>\n",
       "      <th>0</th>\n",
       "      <td>1.160387</td>\n",
       "      <td>0.348643</td>\n",
       "      <td>0.464223</td>\n",
       "      <td>0.418398</td>\n",
       "      <td>0.598737</td>\n",
       "      <td>humans_cylinder_buttons</td>\n",
       "    </tr>\n",
       "    <tr>\n",
       "      <th>1</th>\n",
       "      <td>1.160028</td>\n",
       "      <td>0.344497</td>\n",
       "      <td>0.466973</td>\n",
       "      <td>0.484129</td>\n",
       "      <td>0.628965</td>\n",
       "      <td>humans_cylinder_buttons</td>\n",
       "    </tr>\n",
       "    <tr>\n",
       "      <th>2</th>\n",
       "      <td>1.157290</td>\n",
       "      <td>0.328147</td>\n",
       "      <td>0.472316</td>\n",
       "      <td>-0.047425</td>\n",
       "      <td>0.535667</td>\n",
       "      <td>humans_cylinder_buttons</td>\n",
       "    </tr>\n",
       "    <tr>\n",
       "      <th>3</th>\n",
       "      <td>1.147381</td>\n",
       "      <td>0.324819</td>\n",
       "      <td>0.476503</td>\n",
       "      <td>0.382009</td>\n",
       "      <td>0.556357</td>\n",
       "      <td>humans_cylinder_buttons</td>\n",
       "    </tr>\n",
       "    <tr>\n",
       "      <th>4</th>\n",
       "      <td>1.190059</td>\n",
       "      <td>0.342103</td>\n",
       "      <td>0.474670</td>\n",
       "      <td>0.129168</td>\n",
       "      <td>0.564847</td>\n",
       "      <td>humans_cylinder_buttons</td>\n",
       "    </tr>\n",
       "    <tr>\n",
       "      <th>...</th>\n",
       "      <td>...</td>\n",
       "      <td>...</td>\n",
       "      <td>...</td>\n",
       "      <td>...</td>\n",
       "      <td>...</td>\n",
       "      <td>...</td>\n",
       "    </tr>\n",
       "    <tr>\n",
       "      <th>23995</th>\n",
       "      <td>1.637231</td>\n",
       "      <td>0.316135</td>\n",
       "      <td>0.504347</td>\n",
       "      <td>-0.355106</td>\n",
       "      <td>1.216047</td>\n",
       "      <td>humans_dots_saccades</td>\n",
       "    </tr>\n",
       "    <tr>\n",
       "      <th>23996</th>\n",
       "      <td>1.798037</td>\n",
       "      <td>0.344239</td>\n",
       "      <td>0.508040</td>\n",
       "      <td>0.065705</td>\n",
       "      <td>1.073735</td>\n",
       "      <td>humans_dots_saccades</td>\n",
       "    </tr>\n",
       "    <tr>\n",
       "      <th>23997</th>\n",
       "      <td>1.635325</td>\n",
       "      <td>0.345445</td>\n",
       "      <td>0.498765</td>\n",
       "      <td>-0.257255</td>\n",
       "      <td>1.153567</td>\n",
       "      <td>humans_dots_saccades</td>\n",
       "    </tr>\n",
       "    <tr>\n",
       "      <th>23998</th>\n",
       "      <td>1.484316</td>\n",
       "      <td>0.349281</td>\n",
       "      <td>0.515925</td>\n",
       "      <td>-0.193830</td>\n",
       "      <td>1.242944</td>\n",
       "      <td>humans_dots_saccades</td>\n",
       "    </tr>\n",
       "    <tr>\n",
       "      <th>23999</th>\n",
       "      <td>1.601019</td>\n",
       "      <td>0.391622</td>\n",
       "      <td>0.508751</td>\n",
       "      <td>-0.122693</td>\n",
       "      <td>1.104678</td>\n",
       "      <td>humans_dots_saccades</td>\n",
       "    </tr>\n",
       "  </tbody>\n",
       "</table>\n",
       "<p>96000 rows × 6 columns</p>\n",
       "</div>"
      ],
      "text/plain": [
       "              a         t         z  v_Intercept         k  \\\n",
       "0      1.160387  0.348643  0.464223     0.418398  0.598737   \n",
       "1      1.160028  0.344497  0.466973     0.484129  0.628965   \n",
       "2      1.157290  0.328147  0.472316    -0.047425  0.535667   \n",
       "3      1.147381  0.324819  0.476503     0.382009  0.556357   \n",
       "4      1.190059  0.342103  0.474670     0.129168  0.564847   \n",
       "...         ...       ...       ...          ...       ...   \n",
       "23995  1.637231  0.316135  0.504347    -0.355106  1.216047   \n",
       "23996  1.798037  0.344239  0.508040     0.065705  1.073735   \n",
       "23997  1.635325  0.345445  0.498765    -0.257255  1.153567   \n",
       "23998  1.484316  0.349281  0.515925    -0.193830  1.242944   \n",
       "23999  1.601019  0.391622  0.508751    -0.122693  1.104678   \n",
       "\n",
       "                      Paradigm  \n",
       "0      humans_cylinder_buttons  \n",
       "1      humans_cylinder_buttons  \n",
       "2      humans_cylinder_buttons  \n",
       "3      humans_cylinder_buttons  \n",
       "4      humans_cylinder_buttons  \n",
       "...                        ...  \n",
       "23995     humans_dots_saccades  \n",
       "23996     humans_dots_saccades  \n",
       "23997     humans_dots_saccades  \n",
       "23998     humans_dots_saccades  \n",
       "23999     humans_dots_saccades  \n",
       "\n",
       "[96000 rows x 6 columns]"
      ]
     },
     "execution_count": 41,
     "metadata": {},
     "output_type": "execute_result"
    }
   ],
   "source": [
    "traces"
   ]
  },
  {
   "cell_type": "code",
   "execution_count": 42,
   "id": "c6cb6380",
   "metadata": {},
   "outputs": [
    {
     "name": "stdout",
     "output_type": "stream",
     "text": [
      "              a         t         z  v_Intercept         k  Paradigm\n",
      "0      0.583305  0.183017  0.494340     0.253402  2.799782  m133_cyl\n",
      "1      0.590216  0.183018  0.494512     0.217006  2.691675  m133_cyl\n",
      "2      0.582067  0.182913  0.492228     0.330535  2.676870  m133_cyl\n",
      "3      0.562810  0.182804  0.501833     0.359212  2.696833  m133_cyl\n",
      "4      0.582163  0.182929  0.501086     0.147656  2.666845  m133_cyl\n",
      "...         ...       ...       ...          ...       ...       ...\n",
      "23995  1.156764  0.396742  0.498593    -0.032005  1.455229  m134_RDK\n",
      "23996  1.231567  0.403389  0.518875    -0.010952  1.248217  m134_RDK\n",
      "23997  1.182754  0.389716  0.532040    -0.162907  1.359792  m134_RDK\n",
      "23998  1.199234  0.389511  0.540464    -0.154918  1.472589  m134_RDK\n",
      "23999  1.223406  0.400870  0.550037    -0.009266  1.434058  m134_RDK\n",
      "\n",
      "[96000 rows x 6 columns]\n"
     ]
    }
   ],
   "source": [
    "# Load concatenated parameter traces of from MCMC for monkeys  \n",
    "e = hddm.load_csv('m133_cyl_group_traces.csv')\n",
    "e.drop(columns=['Unnamed: 0'], inplace=True)\n",
    "e.drop(columns=[\"a_std\", \"t_std\", \"z_std\", \"v_Intercept_std\", \"v_stim_std\"], inplace=True)\n",
    "f = hddm.load_csv(\"m134_cyl_group_traces.csv\")\n",
    "f.drop(columns=['Unnamed: 0'], inplace=True)\n",
    "f.drop(columns=[\"a_std\", \"t_std\", \"z_std\", \"v_Intercept_std\", \"v_stim_std\"], inplace=True)\n",
    "g = hddm.load_csv(\"m133_RDK_group_traces.csv\")\n",
    "g.drop(columns=['Unnamed: 0'], inplace=True)\n",
    "g.drop(columns=[\"a_std\", \"t_std\", \"z_std\", \"v_Intercept_std\", \"v_stim_std\"], inplace=True)\n",
    "h = hddm.load_csv(\"m134_RDK_group_traces.csv\")\n",
    "h.drop(columns=['Unnamed: 0'], inplace=True)\n",
    "h.drop(columns=[\"a_std\", \"t_std\", \"z_std\", \"v_Intercept_std\", \"v_stim_std\"], inplace=True)\n",
    "\n",
    "# Pre-processing \n",
    "for mat in [e,f,g,h]:\n",
    "    mat.rename(columns={'v_stim':'k', 'z_trans':'z'}, inplace=True)\n",
    "    mat['z'] = pymc.invlogit(mat['z'])\n",
    "\n",
    "# Put them all in one list\n",
    "allDatasets_monkeys = [e, f, g, h]\n",
    "\n",
    "# Concatenate the data\n",
    "traces_monkeys = pd.concat(allDatasets_monkeys)\n",
    "\n",
    "# Names of the labelled groups for monkeys (again 4 total)\n",
    "list_of_targets_m = traces_monkeys.Paradigm.unique().tolist()\n",
    "\n",
    "# Just to showcase the data structure\n",
    "print(traces_monkeys)"
   ]
  },
  {
   "cell_type": "code",
   "execution_count": 43,
   "id": "e53f7271",
   "metadata": {},
   "outputs": [
    {
     "data": {
      "text/plain": [
       "FriedmanchisquareResult(statistic=94042368719.91055, pvalue=0.0)"
      ]
     },
     "execution_count": 43,
     "metadata": {},
     "output_type": "execute_result"
    }
   ],
   "source": [
    "# traces\n",
    "stats.friedmanchisquare(a.iloc[:, 0:4], b.iloc[:, 0:4], c.iloc[:, 0:4], d.iloc[:, 0:4])"
   ]
  },
  {
   "cell_type": "code",
   "execution_count": 44,
   "id": "aa08accf",
   "metadata": {},
   "outputs": [
    {
     "data": {
      "text/plain": [
       "FriedmanchisquareResult(statistic=95347197746.43205, pvalue=0.0)"
      ]
     },
     "execution_count": 44,
     "metadata": {},
     "output_type": "execute_result"
    }
   ],
   "source": [
    "# traces\n",
    "stats.friedmanchisquare(e.iloc[:, 0:4], f.iloc[:, 0:4], g.iloc[:, 0:4], h.iloc[:, 0:4])"
   ]
  },
  {
   "cell_type": "code",
   "execution_count": 45,
   "id": "d3a7263b",
   "metadata": {},
   "outputs": [],
   "source": [
    "combined_df_a_h = pd.DataFrame({'CB': a.iloc[0:1000, 0], 'CS': b.iloc[0:1000, 0], 'DB': c.iloc[0:1000, 0], 'DS': d.iloc[0:1000, 0]})\n",
    "combined_df_t_h = pd.DataFrame({'CB': a.iloc[0:1000, 1], 'CS': b.iloc[0:1000, 1], 'DB': c.iloc[0:1000, 1], 'DS': d.iloc[0:1000, 1]})\n",
    "combined_df_z_h = pd.DataFrame({'CB': a.iloc[0:1000, 2], 'CS': b.iloc[0:1000, 2], 'DB': c.iloc[0:1000, 2], 'DS': d.iloc[0:1000, 2]})\n",
    "combined_df_v0_h = pd.DataFrame({'CB': a.iloc[0:1000, 3], 'CS': b.iloc[0:1000, 3], 'DB': c.iloc[0:1000, 3], 'DS': d.iloc[0:1000, 3]})\n",
    "combined_df_k_h = pd.DataFrame({'CB': a.iloc[0:1000, 4], 'CS': b.iloc[0:1000, 4], 'DB': c.iloc[0:1000, 4], 'DS': d.iloc[0:1000, 4]})"
   ]
  },
  {
   "cell_type": "code",
   "execution_count": 46,
   "id": "3fabb5c1",
   "metadata": {},
   "outputs": [],
   "source": [
    "combined_df_a_m = pd.DataFrame({'m133_C': e.iloc[0:1000, 0], 'm134_C': f.iloc[0:1000, 0], 'm133_D': g.iloc[0:1000, 0], 'm134_D': h.iloc[0:1000, 0]})\n",
    "combined_df_t_m = pd.DataFrame({'m133_C': e.iloc[0:1000, 1], 'm134_C': f.iloc[0:1000, 1], 'm133_D': g.iloc[0:1000, 1], 'm134_D': h.iloc[0:1000, 1]})\n",
    "combined_df_z_m = pd.DataFrame({'m133_C': e.iloc[0:1000, 2], 'm134_C': f.iloc[0:1000, 2], 'm133_D': g.iloc[0:1000, 2], 'm134_D': h.iloc[0:1000, 2]})\n",
    "combined_df_v0_m = pd.DataFrame({'m133_C': e.iloc[0:1000, 3], 'm134_C': f.iloc[0:1000, 3], 'm133_D': g.iloc[0:1000, 3], 'm134_D': h.iloc[0:1000, 3]})\n",
    "combined_df_k_m = pd.DataFrame({'m133_C': e.iloc[0:1000, 4], 'm134_C': f.iloc[0:1000, 4], 'm133_D': g.iloc[0:1000, 4], 'm134_D': h.iloc[0:1000, 4]})"
   ]
  },
  {
   "cell_type": "code",
   "execution_count": 47,
   "id": "7b00ab94",
   "metadata": {},
   "outputs": [
    {
     "data": {
      "text/html": [
       "<div>\n",
       "<style scoped>\n",
       "    .dataframe tbody tr th:only-of-type {\n",
       "        vertical-align: middle;\n",
       "    }\n",
       "\n",
       "    .dataframe tbody tr th {\n",
       "        vertical-align: top;\n",
       "    }\n",
       "\n",
       "    .dataframe thead th {\n",
       "        text-align: right;\n",
       "    }\n",
       "</style>\n",
       "<table border=\"1\" class=\"dataframe\">\n",
       "  <thead>\n",
       "    <tr style=\"text-align: right;\">\n",
       "      <th></th>\n",
       "      <th>CB</th>\n",
       "      <th>CS</th>\n",
       "      <th>DB</th>\n",
       "      <th>DS</th>\n",
       "    </tr>\n",
       "  </thead>\n",
       "  <tbody>\n",
       "    <tr>\n",
       "      <th>CB</th>\n",
       "      <td>1.000000</td>\n",
       "      <td>0.896267</td>\n",
       "      <td>0.001</td>\n",
       "      <td>0.001</td>\n",
       "    </tr>\n",
       "    <tr>\n",
       "      <th>CS</th>\n",
       "      <td>0.896267</td>\n",
       "      <td>1.000000</td>\n",
       "      <td>0.001</td>\n",
       "      <td>0.001</td>\n",
       "    </tr>\n",
       "    <tr>\n",
       "      <th>DB</th>\n",
       "      <td>0.001000</td>\n",
       "      <td>0.001000</td>\n",
       "      <td>1.000</td>\n",
       "      <td>0.001</td>\n",
       "    </tr>\n",
       "    <tr>\n",
       "      <th>DS</th>\n",
       "      <td>0.001000</td>\n",
       "      <td>0.001000</td>\n",
       "      <td>0.001</td>\n",
       "      <td>1.000</td>\n",
       "    </tr>\n",
       "  </tbody>\n",
       "</table>\n",
       "</div>"
      ],
      "text/plain": [
       "          CB        CS     DB     DS\n",
       "CB  1.000000  0.896267  0.001  0.001\n",
       "CS  0.896267  1.000000  0.001  0.001\n",
       "DB  0.001000  0.001000  1.000  0.001\n",
       "DS  0.001000  0.001000  0.001  1.000"
      ]
     },
     "execution_count": 47,
     "metadata": {},
     "output_type": "execute_result"
    }
   ],
   "source": [
    "sp.posthoc_nemenyi_friedman(combined_df_a_h)"
   ]
  },
  {
   "cell_type": "code",
   "execution_count": 48,
   "id": "f8a4d5d3",
   "metadata": {},
   "outputs": [
    {
     "data": {
      "text/html": [
       "<div>\n",
       "<style scoped>\n",
       "    .dataframe tbody tr th:only-of-type {\n",
       "        vertical-align: middle;\n",
       "    }\n",
       "\n",
       "    .dataframe tbody tr th {\n",
       "        vertical-align: top;\n",
       "    }\n",
       "\n",
       "    .dataframe thead th {\n",
       "        text-align: right;\n",
       "    }\n",
       "</style>\n",
       "<table border=\"1\" class=\"dataframe\">\n",
       "  <thead>\n",
       "    <tr style=\"text-align: right;\">\n",
       "      <th></th>\n",
       "      <th>CB</th>\n",
       "      <th>CS</th>\n",
       "      <th>DB</th>\n",
       "      <th>DS</th>\n",
       "    </tr>\n",
       "  </thead>\n",
       "  <tbody>\n",
       "    <tr>\n",
       "      <th>CB</th>\n",
       "      <td>1.000</td>\n",
       "      <td>0.001</td>\n",
       "      <td>0.001000</td>\n",
       "      <td>0.001000</td>\n",
       "    </tr>\n",
       "    <tr>\n",
       "      <th>CS</th>\n",
       "      <td>0.001</td>\n",
       "      <td>1.000</td>\n",
       "      <td>0.001000</td>\n",
       "      <td>0.001000</td>\n",
       "    </tr>\n",
       "    <tr>\n",
       "      <th>DB</th>\n",
       "      <td>0.001</td>\n",
       "      <td>0.001</td>\n",
       "      <td>1.000000</td>\n",
       "      <td>0.093185</td>\n",
       "    </tr>\n",
       "    <tr>\n",
       "      <th>DS</th>\n",
       "      <td>0.001</td>\n",
       "      <td>0.001</td>\n",
       "      <td>0.093185</td>\n",
       "      <td>1.000000</td>\n",
       "    </tr>\n",
       "  </tbody>\n",
       "</table>\n",
       "</div>"
      ],
      "text/plain": [
       "       CB     CS        DB        DS\n",
       "CB  1.000  0.001  0.001000  0.001000\n",
       "CS  0.001  1.000  0.001000  0.001000\n",
       "DB  0.001  0.001  1.000000  0.093185\n",
       "DS  0.001  0.001  0.093185  1.000000"
      ]
     },
     "execution_count": 48,
     "metadata": {},
     "output_type": "execute_result"
    }
   ],
   "source": [
    "sp.posthoc_nemenyi_friedman(combined_df_t_h)"
   ]
  },
  {
   "cell_type": "code",
   "execution_count": 49,
   "id": "2c1df16a",
   "metadata": {},
   "outputs": [
    {
     "data": {
      "text/html": [
       "<div>\n",
       "<style scoped>\n",
       "    .dataframe tbody tr th:only-of-type {\n",
       "        vertical-align: middle;\n",
       "    }\n",
       "\n",
       "    .dataframe tbody tr th {\n",
       "        vertical-align: top;\n",
       "    }\n",
       "\n",
       "    .dataframe thead th {\n",
       "        text-align: right;\n",
       "    }\n",
       "</style>\n",
       "<table border=\"1\" class=\"dataframe\">\n",
       "  <thead>\n",
       "    <tr style=\"text-align: right;\">\n",
       "      <th></th>\n",
       "      <th>CB</th>\n",
       "      <th>CS</th>\n",
       "      <th>DB</th>\n",
       "      <th>DS</th>\n",
       "    </tr>\n",
       "  </thead>\n",
       "  <tbody>\n",
       "    <tr>\n",
       "      <th>CB</th>\n",
       "      <td>1.000</td>\n",
       "      <td>0.001000</td>\n",
       "      <td>0.001000</td>\n",
       "      <td>0.001</td>\n",
       "    </tr>\n",
       "    <tr>\n",
       "      <th>CS</th>\n",
       "      <td>0.001</td>\n",
       "      <td>1.000000</td>\n",
       "      <td>0.445243</td>\n",
       "      <td>0.001</td>\n",
       "    </tr>\n",
       "    <tr>\n",
       "      <th>DB</th>\n",
       "      <td>0.001</td>\n",
       "      <td>0.445243</td>\n",
       "      <td>1.000000</td>\n",
       "      <td>0.001</td>\n",
       "    </tr>\n",
       "    <tr>\n",
       "      <th>DS</th>\n",
       "      <td>0.001</td>\n",
       "      <td>0.001000</td>\n",
       "      <td>0.001000</td>\n",
       "      <td>1.000</td>\n",
       "    </tr>\n",
       "  </tbody>\n",
       "</table>\n",
       "</div>"
      ],
      "text/plain": [
       "       CB        CS        DB     DS\n",
       "CB  1.000  0.001000  0.001000  0.001\n",
       "CS  0.001  1.000000  0.445243  0.001\n",
       "DB  0.001  0.445243  1.000000  0.001\n",
       "DS  0.001  0.001000  0.001000  1.000"
      ]
     },
     "execution_count": 49,
     "metadata": {},
     "output_type": "execute_result"
    }
   ],
   "source": [
    "sp.posthoc_nemenyi_friedman(combined_df_z_h)"
   ]
  },
  {
   "cell_type": "code",
   "execution_count": 50,
   "id": "aa180a8f",
   "metadata": {},
   "outputs": [
    {
     "data": {
      "text/html": [
       "<div>\n",
       "<style scoped>\n",
       "    .dataframe tbody tr th:only-of-type {\n",
       "        vertical-align: middle;\n",
       "    }\n",
       "\n",
       "    .dataframe tbody tr th {\n",
       "        vertical-align: top;\n",
       "    }\n",
       "\n",
       "    .dataframe thead th {\n",
       "        text-align: right;\n",
       "    }\n",
       "</style>\n",
       "<table border=\"1\" class=\"dataframe\">\n",
       "  <thead>\n",
       "    <tr style=\"text-align: right;\">\n",
       "      <th></th>\n",
       "      <th>CB</th>\n",
       "      <th>CS</th>\n",
       "      <th>DB</th>\n",
       "      <th>DS</th>\n",
       "    </tr>\n",
       "  </thead>\n",
       "  <tbody>\n",
       "    <tr>\n",
       "      <th>CB</th>\n",
       "      <td>1.000000</td>\n",
       "      <td>0.896267</td>\n",
       "      <td>0.001000</td>\n",
       "      <td>0.001000</td>\n",
       "    </tr>\n",
       "    <tr>\n",
       "      <th>CS</th>\n",
       "      <td>0.896267</td>\n",
       "      <td>1.000000</td>\n",
       "      <td>0.001000</td>\n",
       "      <td>0.001000</td>\n",
       "    </tr>\n",
       "    <tr>\n",
       "      <th>DB</th>\n",
       "      <td>0.001000</td>\n",
       "      <td>0.001000</td>\n",
       "      <td>1.000000</td>\n",
       "      <td>0.025834</td>\n",
       "    </tr>\n",
       "    <tr>\n",
       "      <th>DS</th>\n",
       "      <td>0.001000</td>\n",
       "      <td>0.001000</td>\n",
       "      <td>0.025834</td>\n",
       "      <td>1.000000</td>\n",
       "    </tr>\n",
       "  </tbody>\n",
       "</table>\n",
       "</div>"
      ],
      "text/plain": [
       "          CB        CS        DB        DS\n",
       "CB  1.000000  0.896267  0.001000  0.001000\n",
       "CS  0.896267  1.000000  0.001000  0.001000\n",
       "DB  0.001000  0.001000  1.000000  0.025834\n",
       "DS  0.001000  0.001000  0.025834  1.000000"
      ]
     },
     "execution_count": 50,
     "metadata": {},
     "output_type": "execute_result"
    }
   ],
   "source": [
    "sp.posthoc_nemenyi_friedman(combined_df_v0_h)"
   ]
  },
  {
   "cell_type": "code",
   "execution_count": 51,
   "id": "e233a0e7",
   "metadata": {},
   "outputs": [
    {
     "data": {
      "text/html": [
       "<div>\n",
       "<style scoped>\n",
       "    .dataframe tbody tr th:only-of-type {\n",
       "        vertical-align: middle;\n",
       "    }\n",
       "\n",
       "    .dataframe tbody tr th {\n",
       "        vertical-align: top;\n",
       "    }\n",
       "\n",
       "    .dataframe thead th {\n",
       "        text-align: right;\n",
       "    }\n",
       "</style>\n",
       "<table border=\"1\" class=\"dataframe\">\n",
       "  <thead>\n",
       "    <tr style=\"text-align: right;\">\n",
       "      <th></th>\n",
       "      <th>CB</th>\n",
       "      <th>CS</th>\n",
       "      <th>DB</th>\n",
       "      <th>DS</th>\n",
       "    </tr>\n",
       "  </thead>\n",
       "  <tbody>\n",
       "    <tr>\n",
       "      <th>CB</th>\n",
       "      <td>1.000000</td>\n",
       "      <td>0.138086</td>\n",
       "      <td>0.001000</td>\n",
       "      <td>0.001000</td>\n",
       "    </tr>\n",
       "    <tr>\n",
       "      <th>CS</th>\n",
       "      <td>0.138086</td>\n",
       "      <td>1.000000</td>\n",
       "      <td>0.001000</td>\n",
       "      <td>0.001000</td>\n",
       "    </tr>\n",
       "    <tr>\n",
       "      <th>DB</th>\n",
       "      <td>0.001000</td>\n",
       "      <td>0.001000</td>\n",
       "      <td>1.000000</td>\n",
       "      <td>0.109694</td>\n",
       "    </tr>\n",
       "    <tr>\n",
       "      <th>DS</th>\n",
       "      <td>0.001000</td>\n",
       "      <td>0.001000</td>\n",
       "      <td>0.109694</td>\n",
       "      <td>1.000000</td>\n",
       "    </tr>\n",
       "  </tbody>\n",
       "</table>\n",
       "</div>"
      ],
      "text/plain": [
       "          CB        CS        DB        DS\n",
       "CB  1.000000  0.138086  0.001000  0.001000\n",
       "CS  0.138086  1.000000  0.001000  0.001000\n",
       "DB  0.001000  0.001000  1.000000  0.109694\n",
       "DS  0.001000  0.001000  0.109694  1.000000"
      ]
     },
     "execution_count": 51,
     "metadata": {},
     "output_type": "execute_result"
    }
   ],
   "source": [
    "sp.posthoc_nemenyi_friedman(combined_df_k_h)"
   ]
  },
  {
   "cell_type": "code",
   "execution_count": 52,
   "id": "2db3437b",
   "metadata": {},
   "outputs": [
    {
     "data": {
      "text/html": [
       "<div>\n",
       "<style scoped>\n",
       "    .dataframe tbody tr th:only-of-type {\n",
       "        vertical-align: middle;\n",
       "    }\n",
       "\n",
       "    .dataframe tbody tr th {\n",
       "        vertical-align: top;\n",
       "    }\n",
       "\n",
       "    .dataframe thead th {\n",
       "        text-align: right;\n",
       "    }\n",
       "</style>\n",
       "<table border=\"1\" class=\"dataframe\">\n",
       "  <thead>\n",
       "    <tr style=\"text-align: right;\">\n",
       "      <th></th>\n",
       "      <th>m133_C</th>\n",
       "      <th>m134_C</th>\n",
       "      <th>m133_D</th>\n",
       "      <th>m134_D</th>\n",
       "    </tr>\n",
       "  </thead>\n",
       "  <tbody>\n",
       "    <tr>\n",
       "      <th>m133_C</th>\n",
       "      <td>1.000</td>\n",
       "      <td>0.001</td>\n",
       "      <td>0.001</td>\n",
       "      <td>0.001</td>\n",
       "    </tr>\n",
       "    <tr>\n",
       "      <th>m134_C</th>\n",
       "      <td>0.001</td>\n",
       "      <td>1.000</td>\n",
       "      <td>0.001</td>\n",
       "      <td>0.001</td>\n",
       "    </tr>\n",
       "    <tr>\n",
       "      <th>m133_D</th>\n",
       "      <td>0.001</td>\n",
       "      <td>0.001</td>\n",
       "      <td>1.000</td>\n",
       "      <td>0.001</td>\n",
       "    </tr>\n",
       "    <tr>\n",
       "      <th>m134_D</th>\n",
       "      <td>0.001</td>\n",
       "      <td>0.001</td>\n",
       "      <td>0.001</td>\n",
       "      <td>1.000</td>\n",
       "    </tr>\n",
       "  </tbody>\n",
       "</table>\n",
       "</div>"
      ],
      "text/plain": [
       "        m133_C  m134_C  m133_D  m134_D\n",
       "m133_C   1.000   0.001   0.001   0.001\n",
       "m134_C   0.001   1.000   0.001   0.001\n",
       "m133_D   0.001   0.001   1.000   0.001\n",
       "m134_D   0.001   0.001   0.001   1.000"
      ]
     },
     "execution_count": 52,
     "metadata": {},
     "output_type": "execute_result"
    }
   ],
   "source": [
    "sp.posthoc_nemenyi_friedman(combined_df_a_m)"
   ]
  },
  {
   "cell_type": "code",
   "execution_count": 53,
   "id": "1b7e96fc",
   "metadata": {},
   "outputs": [
    {
     "data": {
      "text/html": [
       "<div>\n",
       "<style scoped>\n",
       "    .dataframe tbody tr th:only-of-type {\n",
       "        vertical-align: middle;\n",
       "    }\n",
       "\n",
       "    .dataframe tbody tr th {\n",
       "        vertical-align: top;\n",
       "    }\n",
       "\n",
       "    .dataframe thead th {\n",
       "        text-align: right;\n",
       "    }\n",
       "</style>\n",
       "<table border=\"1\" class=\"dataframe\">\n",
       "  <thead>\n",
       "    <tr style=\"text-align: right;\">\n",
       "      <th></th>\n",
       "      <th>m133_C</th>\n",
       "      <th>m134_C</th>\n",
       "      <th>m133_D</th>\n",
       "      <th>m134_D</th>\n",
       "    </tr>\n",
       "  </thead>\n",
       "  <tbody>\n",
       "    <tr>\n",
       "      <th>m133_C</th>\n",
       "      <td>1.000</td>\n",
       "      <td>0.001</td>\n",
       "      <td>0.001</td>\n",
       "      <td>0.001</td>\n",
       "    </tr>\n",
       "    <tr>\n",
       "      <th>m134_C</th>\n",
       "      <td>0.001</td>\n",
       "      <td>1.000</td>\n",
       "      <td>0.001</td>\n",
       "      <td>0.001</td>\n",
       "    </tr>\n",
       "    <tr>\n",
       "      <th>m133_D</th>\n",
       "      <td>0.001</td>\n",
       "      <td>0.001</td>\n",
       "      <td>1.000</td>\n",
       "      <td>0.001</td>\n",
       "    </tr>\n",
       "    <tr>\n",
       "      <th>m134_D</th>\n",
       "      <td>0.001</td>\n",
       "      <td>0.001</td>\n",
       "      <td>0.001</td>\n",
       "      <td>1.000</td>\n",
       "    </tr>\n",
       "  </tbody>\n",
       "</table>\n",
       "</div>"
      ],
      "text/plain": [
       "        m133_C  m134_C  m133_D  m134_D\n",
       "m133_C   1.000   0.001   0.001   0.001\n",
       "m134_C   0.001   1.000   0.001   0.001\n",
       "m133_D   0.001   0.001   1.000   0.001\n",
       "m134_D   0.001   0.001   0.001   1.000"
      ]
     },
     "execution_count": 53,
     "metadata": {},
     "output_type": "execute_result"
    }
   ],
   "source": [
    "sp.posthoc_nemenyi_friedman(combined_df_t_m)"
   ]
  },
  {
   "cell_type": "code",
   "execution_count": 54,
   "id": "edfa81e4",
   "metadata": {},
   "outputs": [
    {
     "data": {
      "text/html": [
       "<div>\n",
       "<style scoped>\n",
       "    .dataframe tbody tr th:only-of-type {\n",
       "        vertical-align: middle;\n",
       "    }\n",
       "\n",
       "    .dataframe tbody tr th {\n",
       "        vertical-align: top;\n",
       "    }\n",
       "\n",
       "    .dataframe thead th {\n",
       "        text-align: right;\n",
       "    }\n",
       "</style>\n",
       "<table border=\"1\" class=\"dataframe\">\n",
       "  <thead>\n",
       "    <tr style=\"text-align: right;\">\n",
       "      <th></th>\n",
       "      <th>m133_C</th>\n",
       "      <th>m134_C</th>\n",
       "      <th>m133_D</th>\n",
       "      <th>m134_D</th>\n",
       "    </tr>\n",
       "  </thead>\n",
       "  <tbody>\n",
       "    <tr>\n",
       "      <th>m133_C</th>\n",
       "      <td>1.000</td>\n",
       "      <td>0.001</td>\n",
       "      <td>0.001</td>\n",
       "      <td>0.001</td>\n",
       "    </tr>\n",
       "    <tr>\n",
       "      <th>m134_C</th>\n",
       "      <td>0.001</td>\n",
       "      <td>1.000</td>\n",
       "      <td>0.001</td>\n",
       "      <td>0.001</td>\n",
       "    </tr>\n",
       "    <tr>\n",
       "      <th>m133_D</th>\n",
       "      <td>0.001</td>\n",
       "      <td>0.001</td>\n",
       "      <td>1.000</td>\n",
       "      <td>0.001</td>\n",
       "    </tr>\n",
       "    <tr>\n",
       "      <th>m134_D</th>\n",
       "      <td>0.001</td>\n",
       "      <td>0.001</td>\n",
       "      <td>0.001</td>\n",
       "      <td>1.000</td>\n",
       "    </tr>\n",
       "  </tbody>\n",
       "</table>\n",
       "</div>"
      ],
      "text/plain": [
       "        m133_C  m134_C  m133_D  m134_D\n",
       "m133_C   1.000   0.001   0.001   0.001\n",
       "m134_C   0.001   1.000   0.001   0.001\n",
       "m133_D   0.001   0.001   1.000   0.001\n",
       "m134_D   0.001   0.001   0.001   1.000"
      ]
     },
     "execution_count": 54,
     "metadata": {},
     "output_type": "execute_result"
    }
   ],
   "source": [
    "sp.posthoc_nemenyi_friedman(combined_df_z_m)"
   ]
  },
  {
   "cell_type": "code",
   "execution_count": 55,
   "id": "924e6f95",
   "metadata": {},
   "outputs": [
    {
     "data": {
      "text/html": [
       "<div>\n",
       "<style scoped>\n",
       "    .dataframe tbody tr th:only-of-type {\n",
       "        vertical-align: middle;\n",
       "    }\n",
       "\n",
       "    .dataframe tbody tr th {\n",
       "        vertical-align: top;\n",
       "    }\n",
       "\n",
       "    .dataframe thead th {\n",
       "        text-align: right;\n",
       "    }\n",
       "</style>\n",
       "<table border=\"1\" class=\"dataframe\">\n",
       "  <thead>\n",
       "    <tr style=\"text-align: right;\">\n",
       "      <th></th>\n",
       "      <th>m133_C</th>\n",
       "      <th>m134_C</th>\n",
       "      <th>m133_D</th>\n",
       "      <th>m134_D</th>\n",
       "    </tr>\n",
       "  </thead>\n",
       "  <tbody>\n",
       "    <tr>\n",
       "      <th>m133_C</th>\n",
       "      <td>1.000</td>\n",
       "      <td>0.001</td>\n",
       "      <td>0.001</td>\n",
       "      <td>0.001</td>\n",
       "    </tr>\n",
       "    <tr>\n",
       "      <th>m134_C</th>\n",
       "      <td>0.001</td>\n",
       "      <td>1.000</td>\n",
       "      <td>0.001</td>\n",
       "      <td>0.001</td>\n",
       "    </tr>\n",
       "    <tr>\n",
       "      <th>m133_D</th>\n",
       "      <td>0.001</td>\n",
       "      <td>0.001</td>\n",
       "      <td>1.000</td>\n",
       "      <td>0.001</td>\n",
       "    </tr>\n",
       "    <tr>\n",
       "      <th>m134_D</th>\n",
       "      <td>0.001</td>\n",
       "      <td>0.001</td>\n",
       "      <td>0.001</td>\n",
       "      <td>1.000</td>\n",
       "    </tr>\n",
       "  </tbody>\n",
       "</table>\n",
       "</div>"
      ],
      "text/plain": [
       "        m133_C  m134_C  m133_D  m134_D\n",
       "m133_C   1.000   0.001   0.001   0.001\n",
       "m134_C   0.001   1.000   0.001   0.001\n",
       "m133_D   0.001   0.001   1.000   0.001\n",
       "m134_D   0.001   0.001   0.001   1.000"
      ]
     },
     "execution_count": 55,
     "metadata": {},
     "output_type": "execute_result"
    }
   ],
   "source": [
    "sp.posthoc_nemenyi_friedman(combined_df_v0_m)"
   ]
  },
  {
   "cell_type": "code",
   "execution_count": 56,
   "id": "aeef943f",
   "metadata": {},
   "outputs": [
    {
     "data": {
      "text/html": [
       "<div>\n",
       "<style scoped>\n",
       "    .dataframe tbody tr th:only-of-type {\n",
       "        vertical-align: middle;\n",
       "    }\n",
       "\n",
       "    .dataframe tbody tr th {\n",
       "        vertical-align: top;\n",
       "    }\n",
       "\n",
       "    .dataframe thead th {\n",
       "        text-align: right;\n",
       "    }\n",
       "</style>\n",
       "<table border=\"1\" class=\"dataframe\">\n",
       "  <thead>\n",
       "    <tr style=\"text-align: right;\">\n",
       "      <th></th>\n",
       "      <th>m133_C</th>\n",
       "      <th>m134_C</th>\n",
       "      <th>m133_D</th>\n",
       "      <th>m134_D</th>\n",
       "    </tr>\n",
       "  </thead>\n",
       "  <tbody>\n",
       "    <tr>\n",
       "      <th>m133_C</th>\n",
       "      <td>1.000</td>\n",
       "      <td>0.900</td>\n",
       "      <td>0.001</td>\n",
       "      <td>0.001</td>\n",
       "    </tr>\n",
       "    <tr>\n",
       "      <th>m134_C</th>\n",
       "      <td>0.900</td>\n",
       "      <td>1.000</td>\n",
       "      <td>0.001</td>\n",
       "      <td>0.001</td>\n",
       "    </tr>\n",
       "    <tr>\n",
       "      <th>m133_D</th>\n",
       "      <td>0.001</td>\n",
       "      <td>0.001</td>\n",
       "      <td>1.000</td>\n",
       "      <td>0.001</td>\n",
       "    </tr>\n",
       "    <tr>\n",
       "      <th>m134_D</th>\n",
       "      <td>0.001</td>\n",
       "      <td>0.001</td>\n",
       "      <td>0.001</td>\n",
       "      <td>1.000</td>\n",
       "    </tr>\n",
       "  </tbody>\n",
       "</table>\n",
       "</div>"
      ],
      "text/plain": [
       "        m133_C  m134_C  m133_D  m134_D\n",
       "m133_C   1.000   0.900   0.001   0.001\n",
       "m134_C   0.900   1.000   0.001   0.001\n",
       "m133_D   0.001   0.001   1.000   0.001\n",
       "m134_D   0.001   0.001   0.001   1.000"
      ]
     },
     "execution_count": 56,
     "metadata": {},
     "output_type": "execute_result"
    }
   ],
   "source": [
    "sp.posthoc_nemenyi_friedman(combined_df_k_m)"
   ]
  },
  {
   "cell_type": "code",
   "execution_count": 57,
   "id": "ba75e762",
   "metadata": {},
   "outputs": [
    {
     "name": "stdout",
     "output_type": "stream",
     "text": [
      "[[-0.9380725  -0.85739185 -0.68301624  0.89994559  1.04844955]\n",
      " [-0.92013091 -0.85738568 -0.68146893  0.81788064  0.89892819]\n",
      " [-0.94128498 -0.8586     -0.70197018  1.07385964  0.87845077]\n",
      " ...\n",
      " [ 0.61804352  1.54453739 -0.34456425 -0.0387221  -0.94318878]\n",
      " [ 0.66082446  1.54214676 -0.2689344  -0.02071023 -0.78718101]\n",
      " [ 0.72357186  1.67414568 -0.1829927   0.30769785 -0.84047204]]\n"
     ]
    }
   ],
   "source": [
    "# Normalise all data before feeding them into the LDA \n",
    "\n",
    "# Separating out the features\n",
    "x_old_h = traces.loc[:, features].values\n",
    "x_old_m = traces_monkeys.loc[:, features].values\n",
    "\n",
    "# Standardizing the features\n",
    "x_h = StandardScaler().fit_transform(x_old_h)\n",
    "x_m = StandardScaler().fit_transform(x_old_m)\n",
    "\n",
    "print(x_m)"
   ]
  },
  {
   "cell_type": "code",
   "execution_count": 58,
   "id": "b1433f50",
   "metadata": {},
   "outputs": [
    {
     "name": "stdout",
     "output_type": "stream",
     "text": [
      "[[-5.11512328 -1.65398999  1.56008569]\n",
      " [-4.85916928 -1.51071435  1.24537726]\n",
      " [-5.26696784 -0.53871317  0.74050273]\n",
      " ...\n",
      " [ 6.11002291  1.26812609  1.18835557]\n",
      " [ 6.56180686  0.48346067 -0.61545167]\n",
      " [ 5.5689802   0.16145047  2.82550061]]\n"
     ]
    }
   ],
   "source": [
    "# Create LDA with the human data for projecting monkey data onto it \n",
    "model = LinearDiscriminantAnalysis()\n",
    "LDs = model.fit_transform(x_h, traces[\"Paradigm\"])\n",
    "print(LDs)"
   ]
  },
  {
   "cell_type": "code",
   "execution_count": 59,
   "id": "c1e69922",
   "metadata": {},
   "outputs": [
    {
     "data": {
      "text/html": [
       "<div>\n",
       "<style scoped>\n",
       "    .dataframe tbody tr th:only-of-type {\n",
       "        vertical-align: middle;\n",
       "    }\n",
       "\n",
       "    .dataframe tbody tr th {\n",
       "        vertical-align: top;\n",
       "    }\n",
       "\n",
       "    .dataframe thead th {\n",
       "        text-align: right;\n",
       "    }\n",
       "</style>\n",
       "<table border=\"1\" class=\"dataframe\">\n",
       "  <thead>\n",
       "    <tr style=\"text-align: right;\">\n",
       "      <th></th>\n",
       "      <th>0</th>\n",
       "    </tr>\n",
       "  </thead>\n",
       "  <tbody>\n",
       "    <tr>\n",
       "      <th>0</th>\n",
       "      <td>16.209204</td>\n",
       "    </tr>\n",
       "    <tr>\n",
       "      <th>1</th>\n",
       "      <td>8.658492</td>\n",
       "    </tr>\n",
       "    <tr>\n",
       "      <th>2</th>\n",
       "      <td>0.426584</td>\n",
       "    </tr>\n",
       "    <tr>\n",
       "      <th>3</th>\n",
       "      <td>6.117614</td>\n",
       "    </tr>\n",
       "    <tr>\n",
       "      <th>4</th>\n",
       "      <td>68.588107</td>\n",
       "    </tr>\n",
       "  </tbody>\n",
       "</table>\n",
       "</div>"
      ],
      "text/plain": [
       "           0\n",
       "0  16.209204\n",
       "1   8.658492\n",
       "2   0.426584\n",
       "3   6.117614\n",
       "4  68.588107"
      ]
     },
     "execution_count": 59,
     "metadata": {},
     "output_type": "execute_result"
    }
   ],
   "source": [
    "# Obtain the loading scores \n",
    "pd.DataFrame(model.coef_[1, :]).abs()/pd.DataFrame(model.coef_[1, :]).abs().sum()*100"
   ]
  },
  {
   "cell_type": "code",
   "execution_count": 60,
   "id": "36bfd9a1",
   "metadata": {},
   "outputs": [
    {
     "name": "stdout",
     "output_type": "stream",
     "text": [
      "            LD1       LD2                 Paradigm\n",
      "0     -5.115123 -1.653990  humans_cylinder_buttons\n",
      "1     -4.859169 -1.510714  humans_cylinder_buttons\n",
      "2     -5.266968 -0.538713  humans_cylinder_buttons\n",
      "3     -5.833992 -0.364180  humans_cylinder_buttons\n",
      "4     -4.879822 -0.730582  humans_cylinder_buttons\n",
      "...         ...       ...                      ...\n",
      "95995  6.871761  2.206112     humans_dots_saccades\n",
      "95996  5.340887  3.126861     humans_dots_saccades\n",
      "95997  6.110023  1.268126     humans_dots_saccades\n",
      "95998  6.561807  0.483461     humans_dots_saccades\n",
      "95999  5.568980  0.161450     humans_dots_saccades\n",
      "\n",
      "[96000 rows x 3 columns]\n"
     ]
    }
   ],
   "source": [
    "# Extract the first two LDs and assign correct labels \n",
    "\n",
    "principalDf = pd.DataFrame(LDs[:, 0:2], columns = ['LD1', 'LD2'])\n",
    "long_paradigm_list = traces[['Paradigm']][\"Paradigm\"]\n",
    "newlong_paradigm_list=long_paradigm_list.reset_index()\n",
    "newlong_paradigm_list.drop(columns=\"index\", inplace=True)\n",
    "finalDf = pd.concat([principalDf, newlong_paradigm_list], axis=1)\n",
    "print(finalDf)"
   ]
  },
  {
   "cell_type": "code",
   "execution_count": 61,
   "id": "bf1cefc1",
   "metadata": {
    "scrolled": false
   },
   "outputs": [],
   "source": [
    "# Transform the monkey data using the created model \n",
    "\n",
    "X_new_ld = model.transform(x_m)\n",
    "principalDf_m = pd.DataFrame(X_new_ld[:, 0:2], columns = ['LD1', 'LD2'])\n",
    "long_paradigm_list_m = traces_monkeys[['Paradigm']][\"Paradigm\"]\n",
    "newlong_paradigm_list_m = long_paradigm_list_m.reset_index()\n",
    "newlong_paradigm_list_m.drop(columns=\"index\", inplace=True)\n",
    "finalDf_m = pd.concat([principalDf_m, newlong_paradigm_list_m], axis=1)"
   ]
  },
  {
   "cell_type": "code",
   "execution_count": 62,
   "id": "800bf8bd",
   "metadata": {},
   "outputs": [
    {
     "name": "stdout",
     "output_type": "stream",
     "text": [
      "            LD1       LD2                 Paradigm\n",
      "0     -5.115123 -1.653990  humans_cylinder_buttons\n",
      "1     -4.859169 -1.510714  humans_cylinder_buttons\n",
      "2     -5.266968 -0.538713  humans_cylinder_buttons\n",
      "3     -5.833992 -0.364180  humans_cylinder_buttons\n",
      "4     -4.879822 -0.730582  humans_cylinder_buttons\n",
      "...         ...       ...                      ...\n",
      "23995  6.871761  2.206112     humans_dots_saccades\n",
      "23996  5.340887  3.126861     humans_dots_saccades\n",
      "23997  6.110023  1.268126     humans_dots_saccades\n",
      "23998  6.561807  0.483461     humans_dots_saccades\n",
      "23999  5.568980  0.161450     humans_dots_saccades\n",
      "\n",
      "[96000 rows x 3 columns]\n"
     ]
    }
   ],
   "source": [
    "# For plotting, remove the 99th and 1st percentile to better showcase the clouds \n",
    "\n",
    "# Make a copy \n",
    "corrected_df_h = finalDf\n",
    "\n",
    "total_new = []\n",
    "a = pd.Series\n",
    "h_total = pd.DataFrame\n",
    "for target in list_of_targets:\n",
    "    quantile_99_ld1 = corrected_df_h[corrected_df_h[\"Paradigm\"] == target].loc[:, \"LD1\"].quantile(0.999)\n",
    "    quantile_01_ld1 = corrected_df_h[corrected_df_h[\"Paradigm\"] == target].loc[:, \"LD1\"].quantile(0.001)\n",
    "    series_ld1 = (corrected_df_h[corrected_df_h[\"Paradigm\"] == target].loc[:, \"LD1\"] < quantile_99_ld1) | (corrected_df_h[corrected_df_h[\"Paradigm\"] == target].loc[:, \"LD1\"] > quantile_01_ld1)\n",
    "    \n",
    "    quantile_99_ld2 = corrected_df_h[corrected_df_h[\"Paradigm\"] == target].loc[:, \"LD2\"].quantile(0.999)\n",
    "    quantile_01_ld2 = corrected_df_h[corrected_df_h[\"Paradigm\"] == target].loc[:, \"LD2\"].quantile(0.001)\n",
    "    series_ld2 = (corrected_df_h[corrected_df_h[\"Paradigm\"] == target].loc[:, \"LD2\"] < quantile_99_ld2) | (corrected_df_h[corrected_df_h[\"Paradigm\"] == target].loc[:, \"LD2\"] > quantile_01_ld2)\n",
    "    \n",
    "    # Double_index has the full number of values \n",
    "    double_index = pd.concat([series_ld1, series_ld2], axis=1)\n",
    "    place_holder = corrected_df_h.loc[corrected_df_h[\"Paradigm\"] == target, [\"LD1\", \"LD2\"]]\n",
    "    a = place_holder.loc[(double_index.loc[:, \"LD1\"] == True) & (double_index.loc[:, \"LD2\"] == True), [\"LD1\", \"LD2\"]]\n",
    "    \n",
    "    a = pd.DataFrame(a).reset_index(drop=True)\n",
    "    a[\"Paradigm\"] = target\n",
    "    total_new.append(a)\n",
    "\n",
    "# Create a new table for the humans with outliers removed (essentially just finalDf with fewer rows)\n",
    "total_idexer = pd.concat(total_new)\n",
    "\n",
    "print(total_idexer)"
   ]
  },
  {
   "cell_type": "code",
   "execution_count": 63,
   "id": "2c41222c",
   "metadata": {},
   "outputs": [],
   "source": [
    "# For monkeys \n",
    "corrected_df_m = finalDf_m.copy()\n",
    "\n",
    "total_new_m = []\n",
    "b = pd.Series\n",
    "m_total = pd.DataFrame\n",
    "for target in list_of_targets_m:\n",
    "    quantile_99_ld1_m = corrected_df_m[corrected_df_m[\"Paradigm\"] == target].loc[:, \"LD1\"].quantile(0.999)\n",
    "    quantile_01_ld1_m = corrected_df_m[corrected_df_m[\"Paradigm\"] == target].loc[:, \"LD1\"].quantile(0.001)\n",
    "    series_ld1_m = (corrected_df_m[corrected_df_m[\"Paradigm\"] == target].loc[:, \"LD1\"] < quantile_99_ld1_m) & (corrected_df_m[corrected_df_m[\"Paradigm\"] == target].loc[:, \"LD1\"] > quantile_01_ld1_m)\n",
    "    \n",
    "    quantile_99_ld2_m = corrected_df_m[corrected_df_m[\"Paradigm\"] == target].loc[:, \"LD2\"].quantile(0.999)\n",
    "    quantile_01_ld2_m = corrected_df_m[corrected_df_m[\"Paradigm\"] == target].loc[:, \"LD2\"].quantile(0.001)\n",
    "    series_ld2_m = (corrected_df_m[corrected_df_m[\"Paradigm\"] == target].loc[:, \"LD2\"] < quantile_99_ld2_m) & (corrected_df_m[corrected_df_m[\"Paradigm\"] == target].loc[:, \"LD2\"] > quantile_01_ld2_m)\n",
    "    \n",
    "    # Double_index has the full number of values \n",
    "    double_index_m = pd.concat([series_ld1_m, series_ld2_m], axis=1)\n",
    "    place_holder_m = corrected_df_m.loc[corrected_df_m[\"Paradigm\"] == target, [\"LD1\", \"LD2\"]]\n",
    "    b = place_holder_m.loc[(double_index_m.loc[:, \"LD1\"] == True) & (double_index_m.loc[:, \"LD2\"] == True), [\"LD1\", \"LD2\"]]\n",
    "    \n",
    "    b = pd.DataFrame(b).reset_index(drop=True)\n",
    "    b[\"Paradigm\"] = target\n",
    "    total_new_m.append(b)\n",
    "total_idexer_m = pd.concat(total_new_m)"
   ]
  },
  {
   "cell_type": "code",
   "execution_count": 64,
   "id": "f3450fe8",
   "metadata": {},
   "outputs": [],
   "source": [
    "total_idexer_NI = total_idexer.reset_index()\n",
    "total_idexer_NI = total_idexer_NI.drop(columns=\"index\")\n",
    "data1 = total_idexer_NI.iloc[::]"
   ]
  },
  {
   "cell_type": "code",
   "execution_count": 65,
   "id": "ee7d8a3e",
   "metadata": {},
   "outputs": [],
   "source": [
    "total_idexer_NI_m = total_idexer_m.reset_index()\n",
    "total_idexer_NI_m = total_idexer_NI_m.drop(columns=\"index\")\n",
    "data2 = total_idexer_NI_m.iloc[::]"
   ]
  },
  {
   "cell_type": "code",
   "execution_count": 66,
   "id": "b0b8ac5a",
   "metadata": {},
   "outputs": [
    {
     "data": {
      "image/png": "[encoded data removed]",
      "text/plain": [
       "<Figure size 720x720 with 1 Axes>"
      ]
     },
     "metadata": {
      "needs_background": "light"
     },
     "output_type": "display_data"
    }
   ],
   "source": [
    "# New figure with contours for humans and scatter for monkeys \n",
    "fig, ax = plt.subplots(figsize = (10,10))\n",
    "sns.set_style(\"whitegrid\")\n",
    "colors = [\"#c4290a\", \"#FF8C00\", \"#0072B2\", \"#00b25f\"]\n",
    "colors_m = [\"#ff7b00\", \"#ffae00\", \"#008bb2\", \"#6aa9bd\"]\n",
    "\n",
    "sns.kdeplot(data=data1, x=\"LD1\", y=\"LD2\", hue=\"Paradigm\", palette=colors, alpha=1)\n",
    "marker_list = ['v', 'o', 's', '^']    \n",
    "    \n",
    "cc = 0\n",
    "for target in list_of_targets_m:\n",
    "    data = finalDf_m[finalDf_m[\"Paradigm\"] == target]\n",
    "    plt.scatter(data['LD1'], data['LD2'], s=20, marker=marker_list[cc], edgecolors='none', color=colors_m[cc])\n",
    "    cc += 1\n",
    "\n",
    "ax.set_ylim(-5.5, 8.5)\n",
    "ax.set_xlim(-9, 9)\n",
    "\n",
    "kde_legend_lines = [plt.Line2D([0], [0], color=colors[i]) for i in range(4)]\n",
    "scatter_legend_markers = [plt.Line2D([0], [0], marker=marker_list[i], color='w', label=target, markersize=8, markerfacecolor=colors_m[i]) for i, target in enumerate(list_of_targets_m)]\n",
    "H3 = kde_legend_lines + scatter_legend_markers\n",
    "lgnd1 = ax.legend(handles=H3, labels=[\"Cylinder/hand\", \"Cylinder/saccades\", \"RDK/hand\", \"RDK/saccades\", \"m133 Cylinder\", \"m134 Cylinder\",\"m133 RDK\", \"m134 RDK\"], loc='upper left', ncol=4, fancybox=True, shadow=True, fontsize=11.5)\n",
    "# lgnd1 = ax.legend(handles=H3, labels=[\"Cylinder/hand\", \"Cylinder/saccades\", \"RDK/hand\", \"RDK/saccades\"], loc='upper left', ncol=2, fancybox=True, shadow=True, fontsize=13.5)\n",
    "\n",
    "\n",
    "ax.set_xlabel(\"LD1\", fontsize=15)\n",
    "ax.set_ylabel(\"LD2\", fontsize=15)\n",
    "fig.savefig(\"human_monkey_LDA_v2.svg\")\n",
    "fig.show()"
   ]
  },
  {
   "cell_type": "code",
   "execution_count": 67,
   "id": "29d8e742",
   "metadata": {},
   "outputs": [
    {
     "data": {
      "text/html": [
       "<div>\n",
       "<style scoped>\n",
       "    .dataframe tbody tr th:only-of-type {\n",
       "        vertical-align: middle;\n",
       "    }\n",
       "\n",
       "    .dataframe tbody tr th {\n",
       "        vertical-align: top;\n",
       "    }\n",
       "\n",
       "    .dataframe thead th {\n",
       "        text-align: right;\n",
       "    }\n",
       "</style>\n",
       "<table border=\"1\" class=\"dataframe\">\n",
       "  <thead>\n",
       "    <tr style=\"text-align: right;\">\n",
       "      <th></th>\n",
       "      <th>LD1</th>\n",
       "      <th>Paradigm</th>\n",
       "    </tr>\n",
       "  </thead>\n",
       "  <tbody>\n",
       "    <tr>\n",
       "      <th>0</th>\n",
       "      <td>-4.791824</td>\n",
       "      <td>Cylinder</td>\n",
       "    </tr>\n",
       "    <tr>\n",
       "      <th>1</th>\n",
       "      <td>-4.519150</td>\n",
       "      <td>Cylinder</td>\n",
       "    </tr>\n",
       "    <tr>\n",
       "      <th>2</th>\n",
       "      <td>-4.946676</td>\n",
       "      <td>Cylinder</td>\n",
       "    </tr>\n",
       "    <tr>\n",
       "      <th>3</th>\n",
       "      <td>-5.488073</td>\n",
       "      <td>Cylinder</td>\n",
       "    </tr>\n",
       "    <tr>\n",
       "      <th>4</th>\n",
       "      <td>-4.682412</td>\n",
       "      <td>Cylinder</td>\n",
       "    </tr>\n",
       "    <tr>\n",
       "      <th>...</th>\n",
       "      <td>...</td>\n",
       "      <td>...</td>\n",
       "    </tr>\n",
       "    <tr>\n",
       "      <th>95995</th>\n",
       "      <td>6.134288</td>\n",
       "      <td>RDK</td>\n",
       "    </tr>\n",
       "    <tr>\n",
       "      <th>95996</th>\n",
       "      <td>3.977573</td>\n",
       "      <td>RDK</td>\n",
       "    </tr>\n",
       "    <tr>\n",
       "      <th>95997</th>\n",
       "      <td>5.289307</td>\n",
       "      <td>RDK</td>\n",
       "    </tr>\n",
       "    <tr>\n",
       "      <th>95998</th>\n",
       "      <td>6.135476</td>\n",
       "      <td>RDK</td>\n",
       "    </tr>\n",
       "    <tr>\n",
       "      <th>95999</th>\n",
       "      <td>4.656117</td>\n",
       "      <td>RDK</td>\n",
       "    </tr>\n",
       "  </tbody>\n",
       "</table>\n",
       "<p>96000 rows × 2 columns</p>\n",
       "</div>"
      ],
      "text/plain": [
       "            LD1  Paradigm\n",
       "0     -4.791824  Cylinder\n",
       "1     -4.519150  Cylinder\n",
       "2     -4.946676  Cylinder\n",
       "3     -5.488073  Cylinder\n",
       "4     -4.682412  Cylinder\n",
       "...         ...       ...\n",
       "95995  6.134288       RDK\n",
       "95996  3.977573       RDK\n",
       "95997  5.289307       RDK\n",
       "95998  6.135476       RDK\n",
       "95999  4.656117       RDK\n",
       "\n",
       "[96000 rows x 2 columns]"
      ]
     },
     "execution_count": 67,
     "metadata": {},
     "output_type": "execute_result"
    }
   ],
   "source": [
    "# Hypothesis testing along LD1 \n",
    "traces_copy = traces.copy()\n",
    "\n",
    "traces_copy.loc[(traces_copy[\"Paradigm\"] == \"humans_cylinder_buttons\") | (traces_copy[\"Paradigm\"] == \"humans_cylinder_saccades\"), \"Paradigm\"] = \"Cylinder\"\n",
    "traces_copy.loc[traces_copy[\"Paradigm\"] != \"Cylinder\", \"Paradigm\"] = \"RDK\"\n",
    "list_of_targets_hypothesis = traces_copy.Paradigm.unique().tolist()\n",
    "\n",
    "model_h_hypothesis = LinearDiscriminantAnalysis()\n",
    "LDs_h_hypothesis = model_h_hypothesis.fit_transform(x_h, traces_copy[\"Paradigm\"])\n",
    "\n",
    "principalDf_hh = pd.DataFrame(LDs_h_hypothesis[:, 0:1], columns = ['LD1'])\n",
    "long_paradigm_list_hypothesis_h = traces_copy[['Paradigm']][\"Paradigm\"]\n",
    "newlong_paradigm_list_hh=long_paradigm_list_hypothesis_h.reset_index()\n",
    "newlong_paradigm_list_hh.drop(columns=\"index\", inplace=True)\n",
    "finalDf_hh = pd.concat([principalDf_hh, newlong_paradigm_list_hh], axis=1)\n",
    "finalDf_hh"
   ]
  },
  {
   "cell_type": "code",
   "execution_count": 68,
   "id": "102b0716",
   "metadata": {},
   "outputs": [
    {
     "data": {
      "image/png": "[encoded data removed]",
      "text/plain": [
       "<Figure size 720x360 with 1 Axes>"
      ]
     },
     "metadata": {},
     "output_type": "display_data"
    }
   ],
   "source": [
    "fig, ax = plt.subplots(figsize = (10,5))\n",
    "sns.set(font_scale=1.1)\n",
    "sns.set_style(\"whitegrid\")\n",
    "colours = {\"RDK\": \"#009289\", \"Cylinder\": \"#C4290A\"}\n",
    "sns.kdeplot(data=finalDf_hh,x=\"LD1\", fill=True, hue=\"Paradigm\", alpha=0.85, palette=colours).set(title=\"Cylinder vs RDK posterior probability density, human data\")\n",
    "ax.legend([\"RDK\", \"Cylinder\"])\n",
    "ax.set_xlim(-9, 9)\n",
    "fig.savefig(\"humans_LD1_densities_stimuli.svg\")"
   ]
  },
  {
   "cell_type": "code",
   "execution_count": 69,
   "id": "579632db",
   "metadata": {},
   "outputs": [
    {
     "data": {
      "text/html": [
       "<div>\n",
       "<style scoped>\n",
       "    .dataframe tbody tr th:only-of-type {\n",
       "        vertical-align: middle;\n",
       "    }\n",
       "\n",
       "    .dataframe tbody tr th {\n",
       "        vertical-align: top;\n",
       "    }\n",
       "\n",
       "    .dataframe thead th {\n",
       "        text-align: right;\n",
       "    }\n",
       "</style>\n",
       "<table border=\"1\" class=\"dataframe\">\n",
       "  <thead>\n",
       "    <tr style=\"text-align: right;\">\n",
       "      <th></th>\n",
       "      <th>LD1</th>\n",
       "      <th>Paradigm</th>\n",
       "    </tr>\n",
       "  </thead>\n",
       "  <tbody>\n",
       "    <tr>\n",
       "      <th>0</th>\n",
       "      <td>-1.825745</td>\n",
       "      <td>buttons</td>\n",
       "    </tr>\n",
       "    <tr>\n",
       "      <th>1</th>\n",
       "      <td>-1.661312</td>\n",
       "      <td>buttons</td>\n",
       "    </tr>\n",
       "    <tr>\n",
       "      <th>2</th>\n",
       "      <td>-0.672539</td>\n",
       "      <td>buttons</td>\n",
       "    </tr>\n",
       "    <tr>\n",
       "      <th>3</th>\n",
       "      <td>-0.505771</td>\n",
       "      <td>buttons</td>\n",
       "    </tr>\n",
       "    <tr>\n",
       "      <th>4</th>\n",
       "      <td>-0.894470</td>\n",
       "      <td>buttons</td>\n",
       "    </tr>\n",
       "    <tr>\n",
       "      <th>...</th>\n",
       "      <td>...</td>\n",
       "      <td>...</td>\n",
       "    </tr>\n",
       "    <tr>\n",
       "      <th>95995</th>\n",
       "      <td>2.342907</td>\n",
       "      <td>saccades</td>\n",
       "    </tr>\n",
       "    <tr>\n",
       "      <th>95996</th>\n",
       "      <td>3.046883</td>\n",
       "      <td>saccades</td>\n",
       "    </tr>\n",
       "    <tr>\n",
       "      <th>95997</th>\n",
       "      <td>1.311041</td>\n",
       "      <td>saccades</td>\n",
       "    </tr>\n",
       "    <tr>\n",
       "      <th>95998</th>\n",
       "      <td>0.634224</td>\n",
       "      <td>saccades</td>\n",
       "    </tr>\n",
       "    <tr>\n",
       "      <th>95999</th>\n",
       "      <td>0.109777</td>\n",
       "      <td>saccades</td>\n",
       "    </tr>\n",
       "  </tbody>\n",
       "</table>\n",
       "<p>96000 rows × 2 columns</p>\n",
       "</div>"
      ],
      "text/plain": [
       "            LD1  Paradigm\n",
       "0     -1.825745   buttons\n",
       "1     -1.661312   buttons\n",
       "2     -0.672539   buttons\n",
       "3     -0.505771   buttons\n",
       "4     -0.894470   buttons\n",
       "...         ...       ...\n",
       "95995  2.342907  saccades\n",
       "95996  3.046883  saccades\n",
       "95997  1.311041  saccades\n",
       "95998  0.634224  saccades\n",
       "95999  0.109777  saccades\n",
       "\n",
       "[96000 rows x 2 columns]"
      ]
     },
     "execution_count": 69,
     "metadata": {},
     "output_type": "execute_result"
    }
   ],
   "source": [
    "# Hypothesis testing along LD1 for mode of response \n",
    "traces_copy2 = traces\n",
    "traces_copy2.loc[(traces[\"Paradigm\"] == \"humans_cylinder_buttons\") | (traces[\"Paradigm\"] == \"humans_dots_buttons\"), \"Paradigm\"] = \"buttons\"\n",
    "traces_copy2.loc[traces[\"Paradigm\"] != \"buttons\", \"Paradigm\"] = \"saccades\"\n",
    "list_of_targets_hypothesis2 = traces_copy2.Paradigm.unique().tolist()\n",
    "\n",
    "model_h_hypothesis2 = LinearDiscriminantAnalysis()\n",
    "LDs_h_hypothesis2 = model_h_hypothesis2.fit_transform(x_h, traces_copy2[\"Paradigm\"])\n",
    "# print(traces)\n",
    "principalDf_hh2 = pd.DataFrame(LDs_h_hypothesis2[:, 0:1], columns = ['LD1'])\n",
    "long_paradigm_list_hypothesis_h2 = traces_copy2[['Paradigm']][\"Paradigm\"]\n",
    "newlong_paradigm_list_hh2=long_paradigm_list_hypothesis_h2.reset_index()\n",
    "newlong_paradigm_list_hh2.drop(columns=\"index\", inplace=True)\n",
    "finalDf_hh2 = pd.concat([principalDf_hh2, newlong_paradigm_list_hh2], axis=1)\n",
    "finalDf_hh2"
   ]
  },
  {
   "cell_type": "code",
   "execution_count": 70,
   "id": "3f239e2f",
   "metadata": {},
   "outputs": [
    {
     "data": {
      "image/png": "[encoded data removed]",
      "text/plain": [
       "<Figure size 720x360 with 1 Axes>"
      ]
     },
     "metadata": {},
     "output_type": "display_data"
    }
   ],
   "source": [
    "fig, ax = plt.subplots(figsize = (10,5))\n",
    "sns.set(font_scale=1.1)\n",
    "sns.set_style(\"whitegrid\")\n",
    "colours = {\"saccades\": \"#BF9618\", \"buttons\": \"#933B34\"}\n",
    "sns.kdeplot(data=finalDf_hh2,x=\"LD1\", fill=True, hue=\"Paradigm\", alpha=0.85, palette=colours).set(title=\"Saccades vs hand posterior probability density, human data\")\n",
    "ax.legend([\"Saccades\", \"Hand\"])\n",
    "ax.set_xlim(-8, 8)\n",
    "fig.savefig(\"humans_LD1_densities_response.svg\")"
   ]
  },
  {
   "cell_type": "code",
   "execution_count": 71,
   "id": "5144a10d",
   "metadata": {},
   "outputs": [
    {
     "data": {
      "text/plain": [
       "<function matplotlib.pyplot.show(close=None, block=None)>"
      ]
     },
     "execution_count": 71,
     "metadata": {},
     "output_type": "execute_result"
    },
    {
     "data": {
      "image/png": "[encoded data removed]",
      "text/plain": [
       "<Figure size 432x288 with 1 Axes>"
      ]
     },
     "metadata": {},
     "output_type": "display_data"
    }
   ],
   "source": [
    "# minimal_criterion = finalDf_hh[\"LD1\"].min()\n",
    "minimal_criterion = -9\n",
    "# maximal_criterion = finalDf_hh[\"LD1\"].max()\n",
    "maximal_criterion = 9\n",
    "criterion_list = np.linspace(minimal_criterion, maximal_criterion, 25)\n",
    "\n",
    "RDK_only = finalDf_hh.loc[finalDf_hh[\"Paradigm\"] == \"RDK\", \"LD1\"]\n",
    "Cyl_only = finalDf_hh.loc[finalDf_hh[\"Paradigm\"] == \"Cylinder\", \"LD1\"]\n",
    "total_signal = len(RDK_only)\n",
    "total_non_signal = len(Cyl_only)\n",
    "\n",
    "hit_list = []\n",
    "FP_list = []\n",
    "for criterion in criterion_list:\n",
    "\n",
    "    hits_states = [RDK_only>criterion]\n",
    "    hits_num = len(np.where(hits_states)[0])\n",
    "    hits_proportion = hits_num/total_non_signal \n",
    "    hit_list.append(hits_proportion)\n",
    "    \n",
    "    false_positive_states = [Cyl_only>criterion]\n",
    "    false_positives_num = len(np.where(false_positive_states)[0])\n",
    "    false_positives_proportion = false_positives_num/total_non_signal \n",
    "    FP_list.append(false_positives_proportion)\n",
    "    \n",
    "fig2 = plt.figure()\n",
    "plt.plot(FP_list, hit_list)\n",
    "auc=np.trapz(hit_list, FP_list)\n",
    "plt.title(f\"ROC curve (AUC={np.abs(auc):.3f})\")\n",
    "plt.xlabel(\"False Positive Rate\")\n",
    "plt.ylabel(\"True Positive Rate\")\n",
    "plt.show\n",
    "\n"
   ]
  },
  {
   "cell_type": "code",
   "execution_count": 72,
   "id": "db4d9780",
   "metadata": {},
   "outputs": [
    {
     "data": {
      "text/plain": [
       "<function matplotlib.pyplot.show(close=None, block=None)>"
      ]
     },
     "execution_count": 72,
     "metadata": {},
     "output_type": "execute_result"
    },
    {
     "data": {
      "image/png": "[encoded data removed]",
      "text/plain": [
       "<Figure size 432x432 with 1 Axes>"
      ]
     },
     "metadata": {},
     "output_type": "display_data"
    }
   ],
   "source": [
    "minimal_criterion = -6\n",
    "maximal_criterion = 6\n",
    "criterion_list = np.linspace(minimal_criterion, maximal_criterion, 8000)\n",
    "\n",
    "saccades_only = finalDf_hh2.loc[finalDf_hh2[\"Paradigm\"] == \"saccades\", \"LD1\"]\n",
    "buttons_only = finalDf_hh2.loc[finalDf_hh2[\"Paradigm\"] == \"buttons\", \"LD1\"]\n",
    "total_signal = len(saccades_only)\n",
    "total_non_signal = len(buttons_only)\n",
    "\n",
    "hit_list = []\n",
    "FP_list = []\n",
    "for criterion in criterion_list:\n",
    "\n",
    "    hits_states = [saccades_only>criterion]\n",
    "    hits_num = len(np.where(hits_states)[0])\n",
    "    hits_proportion = hits_num/total_non_signal \n",
    "    hit_list.append(hits_proportion)\n",
    "    \n",
    "    false_positive_states = [buttons_only>criterion]\n",
    "    false_positives_num = len(np.where(false_positive_states)[0])\n",
    "    false_positives_proportion = false_positives_num/total_non_signal \n",
    "    FP_list.append(false_positives_proportion)\n",
    "    \n",
    "fig2 = plt.figure(figsize = (6,6))\n",
    "plt.plot(FP_list, hit_list)\n",
    "auc=np.trapz(hit_list, FP_list)\n",
    "plt.title(f\"ROC curve (AUC={np.abs(auc):.4f})\")\n",
    "plt.xlabel(\"False Positive Rate\")\n",
    "plt.ylabel(\"True Positive Rate\")\n",
    "plt.show"
   ]
  },
  {
   "cell_type": "code",
   "execution_count": 84,
   "id": "4937cde7",
   "metadata": {},
   "outputs": [
    {
     "data": {
      "text/plain": [
       "MannwhitneyuResult(statistic=0.0, pvalue=0.0)"
      ]
     },
     "execution_count": 84,
     "metadata": {},
     "output_type": "execute_result"
    }
   ],
   "source": [
    "stats.mannwhitneyu(finalDf_hh.loc[finalDf_hh.Paradigm == \"Cylinder\"].LD1[0:1000], finalDf_hh.loc[finalDf_hh.Paradigm != \"Cylinder\"].LD1[0:1000])"
   ]
  },
  {
   "cell_type": "code",
   "execution_count": 85,
   "id": "f5f15ad5",
   "metadata": {},
   "outputs": [
    {
     "data": {
      "text/plain": [
       "MannwhitneyuResult(statistic=899460.0, pvalue=4.1359917516309924e-210)"
      ]
     },
     "execution_count": 85,
     "metadata": {},
     "output_type": "execute_result"
    }
   ],
   "source": [
    "stats.mannwhitneyu(finalDf_hh2.loc[finalDf_hh2.Paradigm == \"saccades\"].LD1[0:1000], finalDf_hh2.loc[finalDf_hh2.Paradigm != \"saccades\"].LD1[0:1000])"
   ]
  }
 ],
 "metadata": {
  "kernelspec": {
   "display_name": "Python 3",
   "language": "python",
   "name": "python3"
  },
  "language_info": {
   "codemirror_mode": {
    "name": "ipython",
    "version": 3
   },
   "file_extension": ".py",
   "mimetype": "text/x-python",
   "name": "python",
   "nbconvert_exporter": "python",
   "pygments_lexer": "ipython3",
   "version": "3.8.8"
  }
 },
 "nbformat": 4,
 "nbformat_minor": 5
}
